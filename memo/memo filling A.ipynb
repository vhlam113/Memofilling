{
 "cells": [
  {
   "cell_type": "code",
   "execution_count": 1,
   "metadata": {},
   "outputs": [],
   "source": [
    "import pandas as pd \n",
    "import numpy as np\n",
    "import docx\n",
    "from docx import Document"
   ]
  },
  {
   "cell_type": "code",
   "execution_count": 2,
   "metadata": {},
   "outputs": [],
   "source": [
    "doc = docx.Document(\"JET Memo/Form DA1200A (SEA) Data Analytics Specialist Scoping Memo (SEA 01-2021).docx\")"
   ]
  },
  {
   "cell_type": "code",
   "execution_count": 3,
   "metadata": {},
   "outputs": [
    {
     "data": {
      "text/plain": [
       "94"
      ]
     },
     "execution_count": 3,
     "metadata": {},
     "output_type": "execute_result"
    }
   ],
   "source": [
    "all_paras = doc.paragraphs\n",
    "len(all_paras)"
   ]
  },
  {
   "cell_type": "code",
   "execution_count": 20,
   "metadata": {},
   "outputs": [
    {
     "data": {
      "text/plain": [
       "<docx.text.paragraph.Paragraph at 0x25a90c3f470>"
      ]
     },
     "execution_count": 20,
     "metadata": {},
     "output_type": "execute_result"
    }
   ],
   "source": [
    "all_paras[0]."
   ]
  },
  {
   "cell_type": "code",
   "execution_count": 4,
   "metadata": {
    "collapsed": true,
    "jupyter": {
     "outputs_hidden": true
    }
   },
   "outputs": [
    {
     "name": "stdout",
     "output_type": "stream",
     "text": [
      "FORM DA1200A(SEA) — Data AnalyTICS specialist SCOPING memo\n",
      "This is paragraph 0\n",
      "-------\n",
      "INSTRUCTIONS\n",
      "This is paragraph 1\n",
      "-------\n",
      "Form DA1200A, Data Analytics Specialist Scoping Memo (the “Scoping Memo”), provides an illustrative example of a memo used to describe the scope of services to be completed by a Data Analytics Specialist (“DA Specialist”) in connection with an audit engagement.\n",
      "This is paragraph 2\n",
      "-------\n",
      "To plan the DA Specialist’s involvement in an audit engagement, it is essential that audit engagement management spend appropriate time with the DA Specialist to plan and agree to the DA Specialist’s responsibilities. The required planning meeting between audit engagement management and the internal specialist (see , Using the Work of an Auditor’s Internal Specialist) is typically accomplished when the initial extent of the internal specialist’s participation in the audit is determined and there is agreement on the nature and timing of the internal specialist’s involvement. Shortly after the completion of the planning meeting, a Scoping Memo is typically prepared.\n",
      "This is paragraph 3\n",
      "-------\n",
      "The Scoping Memo is intended to be (1) consistent with the scope of procedures agreed to during the initial planning meeting with the auditors on the engagement team (“auditors”) and (2) submitted to the auditors prior to the DA Specialist performing significant procedures.\n",
      "This is paragraph 4\n",
      "-------\n",
      "The Scoping Memo is intended to document and confirm the allocation of responsibility for the performance of certain procedures to the DA Specialist, as well as administrative details (e.g., engagement staffing, timing, time and budget expectations). The Scoping Memo is prepared by a DA Specialist, approved by the  and, in circumstances determined necessary by the , the Designated DA Partner, Principal, or Managing Director, and provided to the Audit Engagement Partner.\n",
      "This is paragraph 5\n",
      "-------\n",
      "The illustrative memo includes example procedures that may be performed by a DA Specialist in connection with an integrated or nonintegrated audit engagement. The Scoping Memo is tailored for the specific facts and circumstances of the audit engagement. Tailoring may include removing sections that are not applicable to the specific engagement depending upon the circumstances and nature of the requested involvement or including additional procedures that the DA Specialist is requested to perform.\n",
      "This is paragraph 6\n",
      "-------\n",
      "The Scoping Memo in this Form includes some words that appear in italics and/or are enclosed within brackets. This format is used to indicate words to be replaced with an appropriate description (e.g., “[Integrated]”); that vary depending on the circumstances (e.g., “[the year [[ending] or [ended]] [Month XX, 201X]”); or that are optional depending on the circumstances (e.g., [If the engagement is communicating key audit matters (KAMs) in the auditor’s report on the financial statements, include the following paragraph.]”).\n",
      "This is paragraph 7\n",
      "-------\n",
      "The Scoping Memo may be tailored for the specific facts and circumstances of the audit engagement. Tailoring may include removing sections that are not applicable to the specific engagement depending upon the circumstances and nature of the requested involvement or including additional procedures that the DA Specialist is requested to perform (e.g., revenue substantive testing procedures). Depending on the scope of services agreed upon by the DA Specialist and Engagement Partner and documented within the Scoping Memo, the DA Specialist may prepare an accompanying Summary Memo (, Data Analytics Specialist Summary Memo) to summarize the procedures once completed. The below table summarizes the recommended memos to be completed based on the planned procedures to be performed:\n",
      "This is paragraph 8\n",
      "-------\n",
      "\n",
      "This is paragraph 9\n",
      "-------\n",
      "Assistance obtained from the following individuals is considered so limited that the requirements and guidance in this Form are not applicable:\n",
      "This is paragraph 10\n",
      "-------\n",
      "Individuals who gather data (e.g., interns, junior staff, temporary staff) at the direction of an internal specialist and such internal specialist takes responsibility for the data and performs audit procedures.\n",
      "This is paragraph 11\n",
      "-------\n",
      "Individuals who provide minor data preparation assistance to auditors or an internal specialist (e.g., preparing data to be used in journal entry tools, data analytics) for data that is used in the performance of audit procedures. The engagement team subsequently evaluates the reliability of the data (e.g., performs reconciliation of the data).\n",
      "This is paragraph 12\n",
      "-------\n",
      "Individuals with specialized skills, knowledge, and experience who provide education or information to the engagement team on a topic related to their field of expertise (e.g., when a DA Specialist provides limited services to assist auditors in understanding and using specialized tools).\n",
      "This is paragraph 13\n",
      "-------\n",
      "\n",
      "\n",
      "This is paragraph 14\n",
      "-------\n",
      "MEMO\n",
      "This is paragraph 15\n",
      "-------\n",
      "PURPOSE AND ENGAGEMENT DETAILS\n",
      "This is paragraph 16\n",
      "-------\n",
      "The purpose of this memo is to describe the participation of the Data Analytics Specialist (“DA Specialist”) in the performance of data analytics procedures in connection with the [audit / review] of SPC - Tổng công ty Điện lực miền Nam for the year ending 31/12/2020\n",
      "This is paragraph 17\n",
      "-------\n",
      "Materiality\n",
      "This is paragraph 18\n",
      "-------\n",
      "PLANNING DISCUSSIONS AND DA SPECIALIST TEAM\n",
      "This is paragraph 19\n",
      "-------\n",
      "\n",
      "This is paragraph 20\n",
      "-------\n",
      "This memo summarizes the results of the planning discussion, per the details below: \n",
      "This is paragraph 21\n",
      "-------\n",
      "During this planning meeting, we discussed the areas of potential DA specialist involvement: \n",
      "This is paragraph 22\n",
      "-------\n",
      "\n",
      "This is paragraph 23\n",
      "-------\n",
      "\n",
      "This is paragraph 24\n",
      "-------\n",
      "\n",
      "This is paragraph 25\n",
      "-------\n",
      "\n",
      "This is paragraph 26\n",
      "-------\n",
      "As discussed during the planning meeting detailed above, the DA Specialist team has the appropriate Data Analytics skills, knowledge, and experience necessary to complete the audit procedures summarized in this memorandum. The members of the DA Specialist team who perform the requested procedures in support of the audit have fulfilled or will have fulfilled all the internal requirements necessary to perform the requested procedures on an audit in accordance with firm policies, including completing the required audit-related training for specialists. If a member of the DA Specialist team participating on the audit has not fulfilled all the internal requirements necessary to perform the requested procedures on an audit, the following will be communicated to the auditors on the engagement team: (1) the specialist’s name, (2) the level of the specialist, (3) the reason the specialist did not meet the requirements, and (4) information as to how the specialist complied with the guidance in , Using the Work of an Auditor’s Internal Specialist (e.g., has been supervised and reviewed by someone who has met the requirements).\n",
      "This is paragraph 27\n",
      "-------\n",
      "A discussion was held during such planning meeting regarding the responsibilities assigned to the DA Specialist team assigned or to be assigned to this engagement, and audit engagement management agreed that the specialists have the appropriate competencies and capabilities to accomplish the assigned responsibilities.\n",
      "This is paragraph 28\n",
      "-------\n",
      "In addition, if there are any changes in staffing, such changes will be communicated to the Audit Engagement Partner/Manager listed above.\n",
      "This is paragraph 29\n",
      "-------\n",
      "We understand that we are required to:\n",
      "This is paragraph 30\n",
      "-------\n",
      "Comply with confidentiality provisions and meet the relevant ethical requirements as discussed during the planning meeting.\n",
      "This is paragraph 31\n",
      "-------\n",
      "Gather and provide all our audit documentation necessary to support the results of our work to the auditors for inclusion in the audit file archive in order to comply with firm policies, professional standards, laws, and regulations.\n",
      "This is paragraph 32\n",
      "-------\n",
      "Exercise professional skepticism in gathering and evaluating audit evidence.\n",
      "This is paragraph 33\n",
      "-------\n",
      "We further understand that we have a responsibility to remain alert for evidence that may contradict other evidence obtained by the audit engagement team and when identified evaluate that evidence and document how we addressed that evidence in the audit documentation.\n",
      "This is paragraph 34\n",
      "-------\n",
      "We also understand that we have a responsibility to evaluate and document how we addressed any contradictory evidence identified by the DA Specialist team or the auditors for our area of involvement.\n",
      "This is paragraph 35\n",
      "-------\n",
      "The auditors will inform the DA Specialist in a timely manner of any relevant information that may relate to the work performed by the DA Specialist, such as significant documentation matters and contradictory evidence identified that may affect the nature, scope, or results of our work.\n",
      "This is paragraph 36\n",
      "-------\n",
      "SCOPE OF SERVICES\n",
      "This is paragraph 37\n",
      "-------\n",
      "As discussed during the planning meeting, the specific procedures we will perform are listed in the table below.\n",
      "This is paragraph 38\n",
      "-------\n",
      "\n",
      "This is paragraph 39\n",
      "-------\n",
      "* This can include information technology systems/applications such as the general ledger, subledger, transactions systems, etc. \n",
      "This is paragraph 40\n",
      "-------\n",
      "PRELIMINARY RISK ASSESSMENT\n",
      "This is paragraph 41\n",
      "-------\n",
      "During the initial planning meeting, as required by  the auditors discussed with the DA Specialist the preliminary risks of material misstatement, including any identified fraud risks, for our area of involvement.\n",
      "This is paragraph 42\n",
      "-------\n",
      "\n",
      "This is paragraph 43\n",
      "-------\n",
      "DA Specialist Addressed Preliminary Risks of Material Misstatement\n",
      "This is paragraph 44\n",
      "-------\n",
      "\n",
      "This is paragraph 45\n",
      "-------\n",
      "Other Significant Risks of Material Misstatement Related to Area of DA Specialist Involvement\n",
      "This is paragraph 46\n",
      "-------\n",
      "[In the table below, include all other significant risks of material misstatement, including any fraud risks, identified for any accounts in the area of DA Specialist involvement that will be addressed by the auditors.]\n",
      "This is paragraph 47\n",
      "-------\n",
      "[Note: The Scoping Memo cannot be finalized until the required discussions regarding risk assessment have taken place.]\n",
      "This is paragraph 48\n",
      "-------\n",
      "Based on the DA Specialist’s specialization and discussion with the auditors regarding the facts and circumstances associated with the audit engagement, no matters came to our attention that were not considered in identifying or evaluating risks of material misstatement. We discussed and understand how the DA Specialist’s planned procedures address the risks of material misstatement for our area of involvement. \n",
      "This is paragraph 49\n",
      "-------\n",
      "The risks of material misstatement listed above are preliminary. The auditors will notify us of (1) any changes to the identified risks or (2) newly identified risks. \n",
      "This is paragraph 50\n",
      "-------\n",
      "If there are changes to identified risks or if new risks are identified, the auditors and the DA Specialist will discuss (1) the circumstances that led to the change or new risk and (2) whether changes to planned procedures or additional procedures are necessary.\n",
      "This is paragraph 51\n",
      "-------\n",
      "\n",
      "This is paragraph 52\n",
      "-------\n",
      "\n",
      "\n",
      "This is paragraph 53\n",
      "-------\n",
      "\n",
      "This is paragraph 54\n",
      "-------\n",
      "COMMUNICATION AND DELIVERABLES\n",
      "This is paragraph 55\n",
      "-------\n",
      "We will discuss with the auditors any evidence we identify that appears to contradict other audit evidence obtained. \n",
      "This is paragraph 56\n",
      "-------\n",
      "It is our expectation that all audit documentation we provide will be included in the archived audit file. If the auditors have concerns regarding the inclusion of our audit documentation, we expect the auditors to discuss their concerns with us and obtain our agreement prior to removing or changing any of our audit documentation. We also will communicate the results of the DA Specialist’s audit procedures specified in this memo using , Data Analytics Specialist Summary Memo (the “Summary Memo”), and provide the working papers developed in support of those results, including:\n",
      "This is paragraph 57\n",
      "-------\n",
      "Scoping Memo.\n",
      "This is paragraph 58\n",
      "-------\n",
      "Audit Analytics – Joint Documentation between DA specialist team and auditors to summarize the results and conclusion of analytics procedures performed.\n",
      "This is paragraph 59\n",
      "-------\n",
      "Summary Memo.\n",
      "This is paragraph 60\n",
      "-------\n",
      "Controls over Audit Tools (, Controls over Audit Tools ) memo(s).\n",
      "This is paragraph 61\n",
      "-------\n",
      "The audit documentation prepared by the DA Specialist is required to have a detailed review performed by a more experienced DA Specialist. A primary review of the audit documentation prepared by the DA Specialist is required to be performed by the Audit Manager, Engagement Partner, or other suitably qualified person.\n",
      "This is paragraph 62\n",
      "-------\n",
      "In circumstances in which a Summary Memo is prepared, for any issue identified, observations regarding internal control over financial reporting, or observations regarding possible improvements to the Entity’s processes and procedures that are documented by the DA Specialist in the Summary Memo, the auditors will provide the DA Specialist with documentation supporting how the finding was resolved. The delivery of the final DA Specialist Summary Memo (if applicable) and Audit Analytics-Joint Documentation will take place after a wrap-up discussion and all matters having been properly resolved. If there are any concerns regarding how the Specialist’s findings were resolved, audit engagement management and the DA Specialist team leader will discuss the concerns and follow the guidance in .\n",
      "This is paragraph 63\n",
      "-------\n",
      "The following deliverables will be provided to the audit engagement team upon completion of the scope of work:\n",
      "This is paragraph 64\n",
      "-------\n",
      "The DA Specialist will communicate any findings to the auditors as they are identified that may have a bearing on the DA Specialist’s conclusions or that affect the scope and timing of other audit procedures.\n",
      "This is paragraph 65\n",
      "-------\n",
      "The procedures that address the sufficiency and appropriateness of the Information Produced by the Entity (IPE) would need to be performed by the auditors to ensure the accuracy and completeness of the data. For this purpose, the DA specialist team will assist the auditors with further additional procedures if requested. \n",
      "This is paragraph 66\n",
      "-------\n",
      "For any issue identified by the procedures performed under the “Scope of Services” section above, the DA Specialist will discuss the issue with the auditors such that they can assess the impact to the financial statements and internal control over financial reporting. The DA Specialist will assist the auditors with further additional procedures if requested.\n",
      "This is paragraph 67\n",
      "-------\n",
      "The DA Specialist team will observe confidentiality requirements followed by the audit team as agreement is required by .\n",
      "This is paragraph 68\n",
      "-------\n",
      "Engagement management will inform the DA Specialist when the audit working paper archive has been approved.\n",
      "This is paragraph 69\n",
      "-------\n",
      "\n",
      "This is paragraph 70\n",
      "-------\n",
      "USE OF AUDIT TOOLS\n",
      "This is paragraph 71\n",
      "-------\n",
      "The DA Specialist plans to use audit tools during our audit procedures. See the summary of audit tools to be used below.\n",
      "This is paragraph 72\n",
      "-------\n",
      "We will document our consideration as to whether the use of these audit tools presents any increased risk in accordance with DTTL AAM 22852, Controls over Audit Tools.\n",
      "This is paragraph 73\n",
      "-------\n",
      "TIMING\n",
      "This is paragraph 74\n",
      "-------\n",
      "We understand that the timing of the planned audit fieldwork is scheduled for the following dates:\n",
      "This is paragraph 75\n",
      "-------\n",
      "To meet the audit timing, the steps in the “Scope of Services” section will be completed by a DA Specialist as of the dates indicated. The timing assumes that all points in the “Considerations for Timing and Hours” section are met.\n",
      "This is paragraph 76\n",
      "-------\n",
      "Audit engagement management will inform the DA Specialist’s Engagement Manager (1) if they determine that any of the DA Specialist’s working papers need to be modified, edited, or excluded from the engagement file for discussion and mutual agreement as to the changes necessary; (2) if the archive of the working papers will be delayed beyond the estimated archive date above; and (3) when the audit working paper archive has been approved.\n",
      "This is paragraph 77\n",
      "-------\n",
      "HOURS\n",
      "This is paragraph 78\n",
      "-------\n",
      "This following is our estimate of the number of hours, assuming all criteria listed in the “Considerations for Timing and Hours” section below are met.  The hours incurred by the Audit Analytics team will be charged to the following assignment code: 2022574\n",
      "This is paragraph 79\n",
      "-------\n",
      "\n",
      "This is paragraph 80\n",
      "-------\n",
      "During the course of the procedures, we will notify the auditors promptly of any circumstances we encounter that could significantly affect the audit procedures performed and discuss any additional hours, as necessary. In addition, if new items come to our attention or the attention of the auditors, we may mutually agree to modify the involvement of the DA Specialist. \n",
      "This is paragraph 81\n",
      "-------\n",
      "CONSIDERATIONS FOR TIMING AND HOURS\n",
      "This is paragraph 82\n",
      "-------\n",
      "The ability of the DA Specialist to complete these procedures within the timeline and number of hours specified in the above sections is dependent upon the following:\n",
      "This is paragraph 83\n",
      "-------\n",
      "The Entity-provided electronic data files are delivered in a timely manner and meet requirements specified in the data request form.\n",
      "This is paragraph 84\n",
      "-------\n",
      "The Entity provides appropriate control totals to facilitate confirming accuracy and completeness of data files. As a leading practice, we encourage the Entity to reconcile the data to the trial balance before it is provided to us to reduce the risk that we will not be able to use the data provided to execute our procedures.\n",
      "This is paragraph 85\n",
      "-------\n",
      "The DA Specialist is not requested to perform any additional activities beyond the scope of the procedures described in this memo. If additional activities are requested to be performed, the timeline and number of hours described above are subject to change.\n",
      "This is paragraph 86\n",
      "-------\n",
      "Overall complexity of engagement.\n",
      "This is paragraph 87\n",
      "-------\n",
      "Lack of appropriate supporting documentation.\n",
      "This is paragraph 88\n",
      "-------\n",
      "An accelerated time frame in which to complete our procedures.\n",
      "This is paragraph 89\n",
      "-------\n",
      "Additional follow-up with management and/or a third-party specialist.\n",
      "This is paragraph 90\n",
      "-------\n",
      "\n",
      "This is paragraph 91\n",
      "-------\n",
      "ACKNOWLEDGMENT\n",
      "This is paragraph 92\n",
      "-------\n",
      "\n",
      "This is paragraph 93\n",
      "-------\n"
     ]
    }
   ],
   "source": [
    "i = 0\n",
    "for para in all_paras:\n",
    "    print(para.text)\n",
    "    print(\"This is paragraph\" , i)\n",
    "    i = i+1\n",
    "    print(\"-------\")"
   ]
  },
  {
   "cell_type": "code",
   "execution_count": 35,
   "metadata": {},
   "outputs": [],
   "source": [
    "doc.save(\"my_written_file2.docx\")"
   ]
  },
  {
   "cell_type": "code",
   "execution_count": 30,
   "metadata": {},
   "outputs": [
    {
     "data": {
      "text/plain": [
       "True"
      ]
     },
     "execution_count": 30,
     "metadata": {},
     "output_type": "execute_result"
    }
   ],
   "source": [
    "\"SEA\" in \"SEA\" in all_paras[0].text"
   ]
  },
  {
   "cell_type": "code",
   "execution_count": 42,
   "metadata": {},
   "outputs": [],
   "source": [
    "i = 0\n",
    "for para in all_paras :\n",
    "    if ('Vu Hoang' in doc.text ) :\n",
    "        print (i)\n",
    "        print ('\\n')\n",
    "        print (para.text)\n",
    "    i = i+1"
   ]
  },
  {
   "cell_type": "code",
   "execution_count": 12,
   "metadata": {},
   "outputs": [],
   "source": [
    "for table in doc.tables:\n",
    "    for row in table.rows:\n",
    "        for cell in row.cells:\n",
    "            print (cell.text)"
   ]
  },
  {
   "cell_type": "code",
   "execution_count": 14,
   "metadata": {},
   "outputs": [],
   "source": [
    "def print_table(table) :\n",
    "    for row in table.rows:\n",
    "        for cell in row.cells:\n",
    "            print (cell.text)"
   ]
  },
  {
   "cell_type": "code",
   "execution_count": 29,
   "metadata": {},
   "outputs": [
    {
     "data": {
      "text/plain": [
       "'3'"
      ]
     },
     "execution_count": 29,
     "metadata": {},
     "output_type": "execute_result"
    }
   ],
   "source": [
    "doc.tables[0].rows[0].cells[0].text"
   ]
  },
  {
   "cell_type": "code",
   "execution_count": 21,
   "metadata": {},
   "outputs": [
    {
     "name": "stdout",
     "output_type": "stream",
     "text": [
      "<docx.table._Row object at 0x0000020C5F111BE0>\n",
      "<docx.table._Row object at 0x0000020C5F111FA0>\n",
      "<docx.table._Row object at 0x0000020C5F111CD0>\n",
      "<docx.table._Row object at 0x0000020C5F111C40>\n",
      "<docx.table._Row object at 0x0000020C5F111220>\n"
     ]
    }
   ],
   "source": [
    "for row in doc.tables[0].rows:\n",
    "    print (row)"
   ]
  },
  {
   "cell_type": "code",
   "execution_count": 16,
   "metadata": {},
   "outputs": [
    {
     "ename": "NameError",
     "evalue": "name 'print_table' is not defined",
     "output_type": "error",
     "traceback": [
      "\u001b[1;31m---------------------------------------------------------------------------\u001b[0m",
      "\u001b[1;31mNameError\u001b[0m                                 Traceback (most recent call last)",
      "\u001b[1;32m<ipython-input-16-1c7de8ea8f07>\u001b[0m in \u001b[0;36m<module>\u001b[1;34m\u001b[0m\n\u001b[1;32m----> 1\u001b[1;33m \u001b[0mprint_table\u001b[0m\u001b[1;33m(\u001b[0m\u001b[0mdoc\u001b[0m\u001b[1;33m.\u001b[0m\u001b[0mtables\u001b[0m\u001b[1;33m[\u001b[0m\u001b[1;36m0\u001b[0m\u001b[1;33m]\u001b[0m\u001b[1;33m)\u001b[0m\u001b[1;33m\u001b[0m\u001b[0m\n\u001b[0m",
      "\u001b[1;31mNameError\u001b[0m: name 'print_table' is not defined"
     ]
    }
   ],
   "source": [
    "print_table(doc.tables[0])"
   ]
  },
  {
   "cell_type": "code",
   "execution_count": 40,
   "metadata": {},
   "outputs": [],
   "source": [
    "doc.tables[0].rows[0].cells[0].text = 'Type of Involvement:'"
   ]
  },
  {
   "cell_type": "code",
   "execution_count": 15,
   "metadata": {},
   "outputs": [
    {
     "name": "stdout",
     "output_type": "stream",
     "text": [
      "Type of Involvement:\n",
      "Form DA1200A\n",
      "Raw data pre-processing\n",
      "X\n",
      " \n",
      "X\n",
      "\n",
      "\n"
     ]
    }
   ],
   "source": [
    "#table  1\n",
    "\n",
    "print(doc.tables[0].rows[0].cells[0].text)\n",
    "print(doc.tables[0].rows[0].cells[1].text)\n",
    "print(doc.tables[0].rows[1].cells[0].text)\n",
    "print(doc.tables[0].rows[1].cells[1].text)\n",
    "\n",
    "print(doc.tables[0].rows[2].cells[0].text)\n",
    "print(doc.tables[0].rows[2].cells[1].text)\n",
    "\n",
    "print(doc.tables[0].rows[3].cells[0].text)\n",
    "print(doc.tables[0].rows[3].cells[1].text)"
   ]
  },
  {
   "cell_type": "code",
   "execution_count": 10,
   "metadata": {},
   "outputs": [
    {
     "name": "stdout",
     "output_type": "stream",
     "text": [
      "Date:\n",
      "\n",
      "To:\n",
      "\n",
      "From:\n",
      "Nguyen Ngoc Diem (Head of DA), Audit Analytics\n",
      "Vu Hoang Lam (Data Analytics Senior), Audit Analytics\n",
      "Subject:\n",
      "\n"
     ]
    }
   ],
   "source": [
    "#table 2\n",
    "\n",
    "print(doc.tables[1].rows[0].cells[0].text)\n",
    "print(doc.tables[1].rows[0].cells[1].text)\n",
    "print(doc.tables[1].rows[1].cells[0].text)\n",
    "print(doc.tables[1].rows[1].cells[1].text)\n",
    "\n",
    "print(doc.tables[1].rows[2].cells[0].text)\n",
    "print(doc.tables[1].rows[2].cells[1].text)\n",
    "\n",
    "print(doc.tables[1].rows[3].cells[0].text)\n",
    "print(doc.tables[1].rows[3].cells[1].text)"
   ]
  },
  {
   "cell_type": "code",
   "execution_count": 25,
   "metadata": {},
   "outputs": [
    {
     "name": "stdout",
     "output_type": "stream",
     "text": [
      "Meeting Date:\n",
      "Meeting Date:\n",
      "DD/MM/201X\n",
      "Title\n",
      "Team Member\n",
      "Participated in the Meeting\n",
      "\n",
      "\n",
      "\n"
     ]
    }
   ],
   "source": [
    "#table 5\n",
    "\n",
    "print(doc.tables[4].rows[0].cells[0].text)\n",
    "print(doc.tables[4].rows[0].cells[1].text)\n",
    "print(doc.tables[4].rows[0].cells[2].text)\n",
    "\n",
    "print(doc.tables[4].rows[1].cells[0].text)\n",
    "print(doc.tables[4].rows[1].cells[1].text)\n",
    "print(doc.tables[4].rows[1].cells[2].text)\n",
    "\n",
    "print(doc.tables[4].rows[2].cells[0].text)\n",
    "print(doc.tables[4].rows[2].cells[1].text)\n",
    "print(doc.tables[4].rows[2].cells[2].text)\n",
    "\n",
    "\n"
   ]
  },
  {
   "cell_type": "code",
   "execution_count": 28,
   "metadata": {},
   "outputs": [
    {
     "name": "stdout",
     "output_type": "stream",
     "text": [
      "\n"
     ]
    }
   ],
   "source": [
    "print(doc.tables[4].rows[2].cells[0].text)"
   ]
  },
  {
   "cell_type": "code",
   "execution_count": 24,
   "metadata": {},
   "outputs": [
    {
     "data": {
      "text/plain": [
       "'The purpose of this memo is to describe the participation of the Data Analytics Specialist (“DA Specialist”) in the performance of data analytics procedures in connection with the [audit / review] of SPC - Tổng công ty Điện lực miền Nam for the year ending 31/12/2020'"
      ]
     },
     "execution_count": 24,
     "metadata": {},
     "output_type": "execute_result"
    }
   ],
   "source": [
    "doc.paragraphs[17].text ="
   ]
  },
  {
   "cell_type": "markdown",
   "metadata": {},
   "source": [
    "Filling blanks :\n",
    "\n",
    "Date : doc.tables[1].rows[0].cells[1].text\n",
    "To : doc.tables[1].rows[0].cells[1].text\n",
    "Subject : doc.tables[1].rows[3].cells[1].text\n",
    "\n",
    "Purpose and engagement details : doc.paragraphs[17].text\n",
    "doc.paragraphs[17].text = \"The purpose of this memo is to describe the participation of the Data Analytics Specialist (“DA Specialist”) in the performance of data analytics procedures in connection with the [audit / review] of\" + #Entity +  \" for \" + \" #yearending\n",
    "Entity  = SPC - Tổng công ty Điện lực miền Nam\n",
    "year ending = the year ending 31/12/2020\n",
    "\n",
    "Meeting Date : doc.tables[4].rows[0].cells[2].text\n",
    "\n",
    "\n",
    "Title : doc.tables[4].rows[1].cells[0].text\n",
    "Team Member : doc.tables[4].rows[1].cells[1].text\n",
    "Participated in the Meeting :doc.tables[4].rows[1].cells[2].text\n",
    "\n",
    "\n",
    "Calibri Light (Headings)"
   ]
  },
  {
   "cell_type": "code",
   "execution_count": 9,
   "metadata": {},
   "outputs": [],
   "source": [
    "dateofmemo = '2020/06/24'\n",
    "engagementclient = 'SPC'\n",
    "yearending = '2020/12/31'\n",
    "meetingdate = '20202/06/24'\n",
    "auditpartner = 'Bui Van Trinh'\n",
    "auditmanager = 'Tran Bao Trung'\n",
    "headofda = 'Nguyen Ngoc Diem'\n",
    "dasenior = 'Vu Hoang Lam'\n",
    "datasource = 'From Client'\n",
    "\n"
   ]
  },
  {
   "cell_type": "code",
   "execution_count": 6,
   "metadata": {},
   "outputs": [],
   "source": [
    "doc.tables[1].rows[0].cells[1].text = dateofmemo"
   ]
  },
  {
   "cell_type": "code",
   "execution_count": 7,
   "metadata": {},
   "outputs": [],
   "source": [
    "doc.tables[1].rows[0].cells[1].text = engagementclient"
   ]
  },
  {
   "cell_type": "code",
   "execution_count": 8,
   "metadata": {},
   "outputs": [],
   "source": [
    "doc.tables[1].rows[3].cells[1].text = 'Scope of services to be provided by Data Analytics (DA) Specialists participating in the performance of data analytics procedures for ' + engagementclient"
   ]
  },
  {
   "cell_type": "code",
   "execution_count": 10,
   "metadata": {},
   "outputs": [],
   "source": [
    "doc.paragraphs[17].text  = \"The purpose of this memo is to describe the participation of the Data Analytics Specialist (“DA Specialist”) in the performance of data analytics procedures in connection with the [audit / review] of \" + engagementclient + \" for the year ending \" + yearending "
   ]
  },
  {
   "cell_type": "code",
   "execution_count": 11,
   "metadata": {},
   "outputs": [],
   "source": [
    "doc.tables[4].rows[0].cells[2].text = '20202/06/24'"
   ]
  },
  {
   "cell_type": "code",
   "execution_count": 14,
   "metadata": {},
   "outputs": [],
   "source": [
    "doc.tables[4].rows[1].cells[0].text = 'Audit Partner'\n",
    "doc.tables[4].rows[1].cells[1].text = auditpartner\n",
    "doc.tables[4].rows[1].cells[2].text = \"X\""
   ]
  },
  {
   "cell_type": "code",
   "execution_count": 15,
   "metadata": {},
   "outputs": [],
   "source": [
    "doc.tables[4].rows[2].cells[0].text = 'Audit Manager'\n",
    "doc.tables[4].rows[2].cells[1].text = auditmanager\n",
    "doc.tables[4].rows[1].cells[2].text = \"X\""
   ]
  },
  {
   "cell_type": "code",
   "execution_count": 16,
   "metadata": {},
   "outputs": [],
   "source": [
    "doc.tables[4].rows[3].cells[0].text = 'Head of DA'\n",
    "doc.tables[4].rows[3].cells[1].text = headofda\n",
    "doc.tables[4].rows[3].cells[2].text = \"X\""
   ]
  },
  {
   "cell_type": "code",
   "execution_count": 17,
   "metadata": {},
   "outputs": [],
   "source": [
    "doc.tables[4].rows[3].cells[0].text = 'DA Senior'\n",
    "doc.tables[4].rows[3].cells[1].text = dasenior\n",
    "doc.tables[4].rows[3].cells[2].text = \"X\""
   ]
  },
  {
   "cell_type": "code",
   "execution_count": 32,
   "metadata": {},
   "outputs": [],
   "source": [
    "from docx.shared import Pt\n",
    "\n",
    "style = doc.styles['Normal']\n",
    "font = style.font\n",
    "font.name = 'Calibri Light'\n",
    "font.size = Pt(11)"
   ]
  },
  {
   "cell_type": "code",
   "execution_count": 33,
   "metadata": {},
   "outputs": [],
   "source": [
    "doc.paragraphs[17].style = doc.styles['Normal']"
   ]
  },
  {
   "cell_type": "code",
   "execution_count": 34,
   "metadata": {},
   "outputs": [],
   "source": [
    "doc.tables[4].rows[3].cells[0].style  = doc.styles['Normal']"
   ]
  },
  {
   "cell_type": "code",
   "execution_count": null,
   "metadata": {},
   "outputs": [],
   "source": []
  }
 ],
 "metadata": {
  "kernelspec": {
   "display_name": "Python 3",
   "language": "python",
   "name": "python3"
  },
  "language_info": {
   "codemirror_mode": {
    "name": "ipython",
    "version": 3
   },
   "file_extension": ".py",
   "mimetype": "text/x-python",
   "name": "python",
   "nbconvert_exporter": "python",
   "pygments_lexer": "ipython3",
   "version": "3.7.0"
  }
 },
 "nbformat": 4,
 "nbformat_minor": 4
}
